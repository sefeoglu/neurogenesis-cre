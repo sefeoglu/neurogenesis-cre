{
  "cells": [
    {
      "cell_type": "markdown",
      "metadata": {
        "id": "7ZcQ_8FliOl1"
      },
      "source": [
        "### Libraries"
      ]
    },
    {
      "cell_type": "code",
      "execution_count": 2,
      "metadata": {
        "id": "VXq2QKl1ipFK"
      },
      "outputs": [],
      "source": [
        "import os\n",
        "import json\n",
        "import random\n",
        "import numpy as np\n",
        "import torch\n",
        "from torch.utils.data import Dataset, DataLoader\n",
        "import torch.nn as nn\n",
        "import torch.nn.functional as F\n",
        "from transformers import BertModel, PreTrainedModel, BertTokenizer, BertConfig\n",
        "from tqdm import tqdm\n",
        "from sklearn.metrics import accuracy_score\n",
        "# Set random seeds for reproducibility\n",
        "def set_seed(seed: int):\n",
        "    random.seed(seed)\n",
        "    np.random.seed(seed)\n",
        "    torch.manual_seed(seed)\n",
        "    torch.cuda.manual_seed_all(seed)\n",
        "    torch.backends.cudnn.deterministic = True\n",
        "    torch.backends.cudnn.benchmark = False\n",
        "\n",
        "set_seed(42)\n"
      ]
    },
    {
      "cell_type": "code",
      "execution_count": 4,
      "metadata": {
        "id": "oDqN9169ZQVn"
      },
      "outputs": [],
      "source": [
        "import pandas as pd\n"
      ]
    },
    {
      "cell_type": "markdown",
      "metadata": {
        "id": "P4BBPQymirie"
      },
      "source": [
        "### source code"
      ]
    },
    {
      "cell_type": "code",
      "execution_count": 3,
      "metadata": {
        "id": "raonoMnyiaAE"
      },
      "outputs": [],
      "source": [
        "\n",
        "def read_json(path):\n",
        "    \"\"\" Read a json file from the given path.\"\"\"\n",
        "    with open(path, 'r') as f:\n",
        "        data = json.load(f)\n",
        "    return data\n",
        "\n",
        "def write_json(data, path):\n",
        "    \"\"\" Write a json file to the given path.\"\"\"\n",
        "    if not os.path.exists(os.path.dirname(path)):\n",
        "        os.makedirs(os.path.dirname(path))\n",
        "\n",
        "    with open(path, 'w', encoding=\"utf-8\") as f:\n",
        "        json.dump(data, f, indent=4, ensure_ascii=False)\n"
      ]
    },
    {
      "cell_type": "code",
      "execution_count": null,
      "metadata": {
        "id": "mPc_HZtEoxYg"
      },
      "outputs": [],
      "source": []
    },
    {
      "cell_type": "code",
      "execution_count": 20,
      "metadata": {
        "id": "1Mr8BSPWApNM"
      },
      "outputs": [],
      "source": [
        "output_dir = f\"drive/MyDrive/EMNLP-neurogenesis/non_neurogenesis_results\"\n",
        "data = []\n",
        "for run_id in range(1,6):\n",
        "  output_dir = f\"drive/MyDrive/EMNLP-neurogenesis/non_neurogenesis_results/results_{run_id}.json\"\n",
        "  data.extend(read_json(output_dir))\n",
        "data_df = pd.DataFrame(data)\n",
        "non_mean_df = data_df.groupby(by=['task_id']).mean()"
      ]
    },
    {
      "cell_type": "code",
      "execution_count": null,
      "metadata": {
        "id": "CNHe5IK2BORV"
      },
      "outputs": [],
      "source": []
    },
    {
      "cell_type": "code",
      "execution_count": 21,
      "metadata": {
        "id": "flzXmd_CBq3U"
      },
      "outputs": [],
      "source": [
        "non_sample = list(non_mean_df['test_acc'])"
      ]
    },
    {
      "cell_type": "code",
      "execution_count": 22,
      "metadata": {
        "id": "O9n9M2NXBdHz"
      },
      "outputs": [],
      "source": [
        "output_dir = f\"drive/MyDrive/EMNLP-neurogenesis/neurogenesis_results_performer\"\n",
        "data = []\n",
        "for run_id in range(1,6):\n",
        "  output_dir = f\"drive/MyDrive/EMNLP-neurogenesis/neurogenesis_results_performer/results_{run_id}.json\"\n",
        "  data.extend(read_json(output_dir))\n",
        "data_df = pd.DataFrame(data)\n",
        "neuro_samples = list(data_df.groupby(by=['task_id']).mean()['test_acc'])"
      ]
    },
    {
      "cell_type": "code",
      "execution_count": 23,
      "metadata": {
        "colab": {
          "base_uri": "https://localhost:8080/"
        },
        "id": "DpRIh8LGK_1t",
        "outputId": "f359333a-7b72-482e-dfac-61fd7e1045eb"
      },
      "outputs": [
        {
          "data": {
            "text/plain": [
              "np.float64(0.8728827120830054)"
            ]
          },
          "execution_count": 23,
          "metadata": {},
          "output_type": "execute_result"
        }
      ],
      "source": [
        "np.mean(non_sample)"
      ]
    },
    {
      "cell_type": "code",
      "execution_count": 24,
      "metadata": {
        "colab": {
          "base_uri": "https://localhost:8080/"
        },
        "id": "PeBcS9ggI-O-",
        "outputId": "fca30d11-6bc2-4446-f2c8-2e626a355464"
      },
      "outputs": [
        {
          "data": {
            "text/plain": [
              "np.float64(0.9419464096805346)"
            ]
          },
          "execution_count": 24,
          "metadata": {},
          "output_type": "execute_result"
        }
      ],
      "source": [
        "np.mean(neuro_samples)"
      ]
    },
    {
      "cell_type": "code",
      "execution_count": 25,
      "metadata": {
        "colab": {
          "base_uri": "https://localhost:8080/"
        },
        "id": "ngMXKYGXDeiJ",
        "outputId": "47ad40b9-dca5-4823-e7d7-2f5c600fc4ce"
      },
      "outputs": [
        {
          "data": {
            "text/plain": [
              "(np.float64(2.477506128998837), np.float64(0.030368935662589636))"
            ]
          },
          "execution_count": 25,
          "metadata": {},
          "output_type": "execute_result"
        }
      ],
      "source": [
        "from scipy.stats import ttest_ind\n",
        "\n",
        "\n",
        "# Perform t-test\n",
        "t_stat, p_value = ttest_ind(neuro_samples, non_sample, equal_var=False)\n",
        "\n",
        "t_stat, p_value\n"
      ]
    },
    {
      "cell_type": "markdown",
      "metadata": {
        "id": "jEBEoolOPJwj"
      },
      "source": [
        "The t-test results can be interpreted as follows:\n",
        "\n",
        "**Test Statistic (t-value):**\n",
        "\n",
        "2.477506128998837\n",
        "This value indicates how many standard errors the sample mean is away from the null hypothesis value. A larger absolute t-value suggests a more significant difference from the null hypothesis.\n",
        "\n",
        "**p-value**\n",
        "0.030368935662589636\n",
        "This value represents the probability of obtaining a result as extreme as the observed one, assuming the null hypothesis is true. If the p-value is below a commonly used threshold (e.g., 0.05), it suggests the null hypothesis can be rejected in favor of the alternative hypothesis.\n",
        "\n",
        "**Conclusion:**\n",
        "Since the p-value (0.0304) is less than 0.05, the results indicate statistical significance at the 5% level.\n",
        "\n",
        "You can reject the null hypothesis, suggesting there is evidence of a significant difference or effect."
      ]
    }
  ],
  "metadata": {
    "accelerator": "GPU",
    "colab": {
      "gpuType": "A100",
      "machine_shape": "hm",
      "provenance": []
    },
    "kernelspec": {
      "display_name": "Python 3",
      "name": "python3"
    },
    "language_info": {
      "name": "python",
      "version": "3.7.7"
    }
  },
  "nbformat": 4,
  "nbformat_minor": 0
}
